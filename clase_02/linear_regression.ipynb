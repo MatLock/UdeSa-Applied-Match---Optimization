import numpy as np
from scipy.special import gamma
import matplotlib.pyplot as plt

tt = np.array([0, 1, 3, 4])
bb = np.array([1, 8, 8, 20])
A = np.array([[t, 1] for t in tt])
dd, cc = np.linalg.solve(A.T @ A, A.T @ bb)
plt.plot(tt, bb, "bo")
plt.plot(tt, dd*tt + cc)
